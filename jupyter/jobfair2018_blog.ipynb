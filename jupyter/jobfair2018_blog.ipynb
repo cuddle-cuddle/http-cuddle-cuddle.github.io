{
 "cells": [
  {
   "cell_type": "markdown",
   "metadata": {},
   "source": [
    "### So, for the last few screen shots, you must have heard how bad the website is --- so now scrape away! For the Bot!"
   ]
  },
  {
   "cell_type": "code",
   "execution_count": 2,
   "metadata": {},
   "outputs": [],
   "source": [
    "import pandas as pd\n",
    "import re"
   ]
  },
  {
   "cell_type": "markdown",
   "metadata": {},
   "source": [
    "First, I have downloaded the \"root\" html page, to get all the ids of organizations. "
   ]
  },
  {
   "cell_type": "code",
   "execution_count": 8,
   "metadata": {},
   "outputs": [
    {
     "name": "stderr",
     "output_type": "stream",
     "text": [
      "/home/penpen/anaconda3/lib/python3.5/site-packages/bs4/__init__.py:219: UserWarning: \"b'./www.partners4employment.ca/student-alumni.htm'\" looks like a filename, not markup. You should probably open this file and pass the filehandle into Beautiful Soup.\n",
      "  ' Beautiful Soup.' % markup)\n"
     ]
    }
   ],
   "source": [
    "from bs4 import BeautifulSoup\n",
    "soup = BeautifulSoup('./www.partners4employment.ca/student-alumni.htm', 'html.parser')"
   ]
  },
  {
   "cell_type": "markdown",
   "metadata": {},
   "source": [
    "the reason I didn't use soup for this step is because... it's aon over kill. "
   ]
  },
  {
   "cell_type": "code",
   "execution_count": 9,
   "metadata": {},
   "outputs": [
    {
     "name": "stdout",
     "output_type": "stream",
     "text": [
      "number of companies at jobfair:  194\n"
     ]
    }
   ],
   "source": [
    "reg_str = 'registrationId : '\n",
    "len_reg_str = len(reg_str)\n",
    "ids = []\n",
    "with open('./www.partners4employment.ca/student-alumni/current-participating-organizations.htm') as f:\n",
    "    content = f.readlines()\n",
    "    for l in content: \n",
    "        m = re.search('registrationId : ([0-9]+)', l)\n",
    "        if (m is not None):\n",
    "            ids = ids + [m.group(0)[len_reg_str:]]\n",
    "\n",
    "print(\"number of companies at jobfair: \", len(ids))"
   ]
  },
  {
   "cell_type": "markdown",
   "metadata": {},
   "source": [
    "## Sending Requests to get stuff we need"
   ]
  },
  {
   "cell_type": "code",
   "execution_count": 4,
   "metadata": {},
   "outputs": [],
   "source": [
    "import requests"
   ]
  },
  {
   "cell_type": "markdown",
   "metadata": {},
   "source": [
    "we're using some test data to see how the page should be parsed. "
   ]
  },
  {
   "cell_type": "code",
   "execution_count": 12,
   "metadata": {},
   "outputs": [],
   "source": [
    "endpoint = \"https://www.partners4employment.ca/student-alumni/current-participating-organizations.htm\"\n",
    "data = {'action':'displayRegInfo', \n",
    "       'registrationId': '3279'} \n",
    "r = requests.post(url = endpoint, data = data)\n",
    "job_soup = BeautifulSoup(r.text, \"lxml\")"
   ]
  },
  {
   "cell_type": "code",
   "execution_count": 15,
   "metadata": {},
   "outputs": [
    {
     "name": "stdout",
     "output_type": "stream",
     "text": [
      "name of company:  Think Research\n",
      "# 0\n",
      "78\n",
      "-----------------------------------\n",
      "# 1\n",
      "Think Research is changing the way healthcare's delivered - no, really! - and not in the Buckley's \"tastes awful but it works\" kind of way. We are building software to give clinicians the information they need to treat patients better and faster. Why Us? It's not every day you get to change the way your friends and family are cared for. Our culture is one of the things we're most proud of--our fun, freindly and talented team will become your second family! Did we mention we're located in the core of Downtown Toronto?\n",
      "-----------------------------------\n",
      "# 2\n",
      "Learn more at www.thinkresearch.com/ca/company/careers/engineering/. \r\n",
      "\r\n",
      "\n",
      "Engineering Co-op Students for the Summer Waterloo Co-op Term ( May 14th start): 4 month co-ops for the summer\n",
      "Graduates/Alumni: Ruby Developers, Software Developers (full time)\n",
      "-----------------------------------\n",
      "# 3\n",
      "Full-time|Co-op/Internship|Contract\n",
      "-----------------------------------\n",
      "# 4\n",
      "Ontario (GTA)|Ontario (excluding GTA)\n",
      "-----------------------------------\n",
      "# 5\n",
      "www.linkedin.com/company/1590921/\n",
      "-----------------------------------\n",
      "# 6\n",
      "@TRChealth\n",
      "-----------------------------------\n",
      "# 7\n",
      "www.facebook.com/TRChealth/\n",
      "-----------------------------------\n",
      "# 8\n",
      "156 Front Street West, 5th Floor, Toronto, Ontario M5J 2L6\r\n",
      "416.977.1955\r\n",
      "www.thinkresearch.com/ca\n",
      "-----------------------------------\n"
     ]
    }
   ],
   "source": [
    "name = job_soup.find(\"h1\").text.strip()\n",
    "print(\"name of company: \", name)\n",
    "profile = job_soup.find_all(\"div\", class_=\"controls-text\")\n",
    "counter = 0\n",
    "for p in profile: \n",
    "    print(\"#\", counter)\n",
    "    print(p.text.strip())\n",
    "    print(\"-----------------------------------\")\n",
    "    counter = counter + 1"
   ]
  },
  {
   "cell_type": "markdown",
   "metadata": {},
   "source": [
    "Okay, so we have description, address, name, phone number, etc. \n",
    "TL;DR: names and info have to be stripped seperately, but they're there. \n"
   ]
  },
  {
   "cell_type": "markdown",
   "metadata": {},
   "source": [
    "## Actual stripping script: "
   ]
  },
  {
   "cell_type": "code",
   "execution_count": 16,
   "metadata": {},
   "outputs": [
    {
     "name": "stdout",
     "output_type": "stream",
     "text": [
      "added  Accedo  currlen:  11\n",
      "added  Adastra Corporation  currlen:  22\n",
      "added  Aecon  currlen:  33\n",
      "added  Aerotek  currlen:  44\n",
      "added  African Lion Safari  currlen:  55\n",
      "added  Agriculture & Agri-Food Canada  currlen:  66\n",
      "added  Andiamo  currlen:  77\n",
      "added  Arcane  currlen:  88\n",
      "added  Arctic Glacier Canada  currlen:  99\n",
      "added  Arvato  currlen:  110\n",
      "added  Auvik Networks  currlen:  121\n",
      "added  Aviva Canada - Healthcare Claims  currlen:  132\n",
      "added  B&R Industrial Automation  currlen:  143\n",
      "added  BASF Corporation  currlen:  154\n",
      "added  BBM Canada  currlen:  165\n",
      "added  Big Viking Games  currlen:  176\n",
      "added  BlackBerry Limited  currlen:  187\n",
      "added  Bonanza Gardens  currlen:  198\n",
      "added  Brock Solutions  currlen:  209\n",
      "added  BSM Technologies  currlen:  220\n",
      "added  BWXT Canada Ltd.  currlen:  231\n",
      "added  Camp Couchiching  currlen:  242\n",
      "added  Camp Kennebec  currlen:  253\n",
      "added  Camp Kodiak  currlen:  264\n",
      "added  Camp Trillium  currlen:  275\n",
      "added  Canada Revenue Agency  currlen:  286\n",
      "added  Canadian Broadcasting Corporation  currlen:  297\n",
      "added  Canadian Coast Guard  currlen:  308\n",
      "added  Canadian Coast Guard  currlen:  319\n",
      "added  Canadian Deafblind Association Ontario Chapter  currlen:  330\n",
      "added  Ceridian  currlen:  341\n",
      "added  CF Crozier & Associates  currlen:  352\n",
      "added  CGI  currlen:  363\n",
      "added  Children's Mental Health Services  currlen:  374\n",
      "added  Christian Horizons-West District  currlen:  385\n",
      "added  CIHI  currlen:  396\n",
      "added  Cintas Canada Ltd  currlen:  407\n",
      "added  Clearpath Robotics  currlen:  418\n",
      "added  Clio  currlen:  429\n",
      "added  CNIB Lake Joseph Centre  currlen:  440\n",
      "added  Cole Engineering Group Ltd  currlen:  451\n",
      "added  Collabera  currlen:  462\n",
      "added  Communications Security Establishment  currlen:  473\n",
      "added  Computer Talk Technology  currlen:  484\n",
      "added  Crawford and Company (Canada)  currlen:  495\n",
      "added  Crestwood Valley Day Camp  currlen:  506\n",
      "added  Cummins Canada  currlen:  517\n",
      "added  Dalton Associates  currlen:  528\n",
      "added  DarkMatter Canada Inc.  currlen:  539\n",
      "added  Dealer-FX  currlen:  550\n",
      "added  Dejero  currlen:  561\n",
      "added  Del Industrial Metals  currlen:  572\n",
      "added  Dell  currlen:  583\n",
      "added  DESCH Canada Ltd.  currlen:  594\n",
      "added  DHL Supply Chain  currlen:  605\n",
      "added  Double Negative Canada Productions Ltd.  currlen:  616\n",
      "added  DSEL  currlen:  627\n",
      "added  Dundas Data Visualization, Inc.  currlen:  638\n",
      "added  Dynatrace  currlen:  649\n",
      "added  Edison Engineers Inc.  currlen:  660\n",
      "added  Edsence International Children's College  currlen:  671\n",
      "added  Edward Jones  currlen:  682\n",
      "added  EMCO Corporation  currlen:  693\n",
      "added  Englobe  currlen:  704\n",
      "added  Enterprise Holdings  currlen:  715\n",
      "added  Equifax  currlen:  726\n",
      "added  ESCRYPT  currlen:  737\n",
      "added  eSentire  currlen:  748\n",
      "added  ETBO Tool & Die  currlen:  759\n",
      "added  FieldCore  currlen:  770\n",
      "added  Finastra  currlen:  781\n",
      "added  Fluent Home Ltd.  currlen:  792\n",
      "added  Fortigo Freight  currlen:  803\n",
      "added  Fortinet Technologies  currlen:  814\n",
      "added  Fowler Construction  currlen:  825\n",
      "added  Fusion Retail Analytics  currlen:  836\n",
      "added  General Dynamics Mission Systems-Canada  currlen:  847\n",
      "added  General Motors of Canada  currlen:  858\n",
      "added  Geotab Inc  currlen:  869\n",
      "added  GHD Limited  currlen:  880\n",
      "added  goeasy Ltd.  currlen:  891\n",
      "added  GoodLife Fitness  currlen:  902\n",
      "added  Gordon Food Service  currlen:  913\n",
      "added  Guelph Police Service  currlen:  924\n",
      "added  Health Canada and the Public Agency of Canada  currlen:  935\n",
      "added  HESS International Educational Group  currlen:  946\n",
      "added  HollisWealth  currlen:  957\n",
      "added  Huawei  currlen:  968\n",
      "added  Indellient  currlen:  979\n",
      "added  INDIVA Inc.  currlen:  990\n",
      "added  InnoSoft Canada Inc.  currlen:  1001\n",
      "added  Innovative Automation  currlen:  1012\n",
      "added  Insight Global  currlen:  1023\n",
      "added  Investors Group  currlen:  1034\n",
      "added  Keyence Canada Inc.  currlen:  1045\n",
      "added  Kinaxis  currlen:  1056\n",
      "added  Klenzoid Canada Inc.  currlen:  1067\n",
      "added  KMW Outreach Inc  currlen:  1078\n",
      "added  Knowledge First Financial  currlen:  1089\n",
      "added  Konica Minolta  currlen:  1100\n",
      "added  Konrad Group  currlen:  1111\n",
      "added  Labstat International ULC  currlen:  1122\n",
      "added  Lafarge Canada Inc  currlen:  1133\n",
      "added  Lakeside Produce  currlen:  1144\n",
      "added  Libro Credit Union  currlen:  1155\n",
      "added  Lixar IT  currlen:  1166\n",
      "added  Manulife  currlen:  1177\n",
      "added  Manulife Securities Incorporated  currlen:  1188\n",
      "added  MCAP  currlen:  1199\n",
      "added  McKellar Structured Settlements Inc.  currlen:  1210\n",
      "added  McRae Integration  currlen:  1221\n",
      "added  Meltwater  currlen:  1232\n",
      "added  Mobeewave  currlen:  1243\n",
      "added  Mozzaz  currlen:  1254\n",
      "added  Mueller Water Products  currlen:  1265\n",
      "added  Multi-Health Systems Inc.  currlen:  1276\n",
      "added  MultiView Canada  currlen:  1287\n",
      "added  Natural Resources Canada  currlen:  1298\n",
      "added  Noble Corporation  currlen:  1309\n",
      "added  Ontario Drive & Gear Limited  currlen:  1320\n",
      "added  Ontario One Call  currlen:  1331\n",
      "added  Operis  currlen:  1342\n",
      "added  Oracle  currlen:  1353\n",
      "added  PCC Aerostructures  currlen:  1364\n",
      "added  PCL Constructors Canada Inc.  currlen:  1375\n",
      "added  PEER Group  currlen:  1386\n",
      "added  Penske Truck Leasing  currlen:  1397\n",
      "added  Primerica  currlen:  1408\n",
      "added  Princeton Holdings Limited  currlen:  1419\n",
      "added  Public Service Commission of Canada  currlen:  1430\n",
      "added  Qualicom Innovations Inc.  currlen:  1441\n",
      "added  Radium Golf Group  currlen:  1452\n",
      "added  Rapid Novor Inc  currlen:  1463\n",
      "added  Region of Waterloo  currlen:  1474\n",
      "added  Reynolds and Reynolds  currlen:  1485\n",
      "added  RidgeTech Automation Inc.  currlen:  1496\n",
      "added  RioCan  currlen:  1507\n",
      "added  Robert Half Canada  currlen:  1518\n",
      "added  Rome Transportation  currlen:  1529\n",
      "added  Rothmans, Benson & Hedges - INKOMPASS  currlen:  1540\n",
      "added  Royal Adhesives & Sealants Canada Ltd  currlen:  1551\n",
      "added  Royal Canadian Mounted Police  currlen:  1562\n",
      "added  S&C Electric Company  currlen:  1573\n",
      "added  SAP Canada  currlen:  1584\n",
      "added  Schaefer Systems International  currlen:  1595\n",
      "added  Schaeffler Canada Inc.  currlen:  1606\n",
      "added  Schneider Electric  currlen:  1617\n",
      "added  Scotlynn Commodities  currlen:  1628\n",
      "added  Scribd  currlen:  1639\n",
      "added  Septodont  currlen:  1650\n",
      "added  SNC-Lavalin  currlen:  1661\n",
      "added  Sofina Foods Inc.  currlen:  1672\n",
      "added  SOTI  currlen:  1683\n",
      "added  Stackpole International  currlen:  1694\n",
      "added  StackTeck Systems Ltd  currlen:  1705\n",
      "added  Staples Canada  currlen:  1716\n",
      "added  Sun Life Financial  currlen:  1727\n",
      "added  Synopsys  currlen:  1738\n",
      "added  TalentEgg  currlen:  1749\n",
      "added  Tangam Gaming Inc.  currlen:  1760\n",
      "added  TAO Solutions Inc.  currlen:  1771\n",
      "added  TD Bank  currlen:  1782\n",
      "added  Teledyne DALSA  currlen:  1793\n",
      "added  The Sherwin-Williams Company  currlen:  1804\n",
      "added  Think Research  currlen:  1815\n",
      "added  Thompsons Limited  currlen:  1826\n",
      "added  Thresholds Homes and Supports Inc.  currlen:  1837\n",
      "added  Tigercat  currlen:  1848\n",
      "added  Timberland Equipment Limited  currlen:  1859\n",
      "added  Tjene  currlen:  1870\n",
      "added  Toronto Police Service  currlen:  1881\n",
      "added  Toyota Motor Manufacturing Canada Inc.  currlen:  1892\n",
      "added  TRADER Corporation  currlen:  1903\n",
      "added  TransUnion  currlen:  1914\n",
      "added  Trend Hunter Inc.  currlen:  1925\n",
      "added  Uline Shipping Supplies  currlen:  1936\n",
      "added  Ultimate Software  currlen:  1947\n",
      "added  Value Connect Inc.  currlen:  1958\n",
      "added  Vena Solutions  currlen:  1969\n",
      "added  Verafin  currlen:  1980\n",
      "added  Viking-Cives  currlen:  1991\n",
      "added  WalterFedy  currlen:  2002\n",
      "added  Ward & Uptigrove Chartered Professional Accountants  currlen:  2013\n",
      "added  Waterloo Regional Police Service  currlen:  2024\n",
      "added  WebSan Solutions Inc.  currlen:  2035\n",
      "added  Weishaupt Corporation  currlen:  2046\n",
      "added  Wells Fargo  currlen:  2057\n",
      "added  WIS International  currlen:  2068\n",
      "added  World Wide Logistics Inc.  currlen:  2079\n",
      "added  WorleyParsons Canada  currlen:  2090\n",
      "added  X by 2  currlen:  2101\n",
      "added  YMCA Summer Work Student Exchange  currlen:  2112\n",
      "added  York Regional Police  currlen:  2123\n",
      "added  ZTR Control Systems  currlen:  2134\n"
     ]
    }
   ],
   "source": [
    "company_df = pd.DataFrame(columns=[\n",
    "    'id', \n",
    "    'name', \n",
    "    'booth', \n",
    "    'profile', \n",
    "    'positions', \n",
    "    'employment types', \n",
    "    'location', \n",
    "    'linkedin',\n",
    "    'twitter',\n",
    "    'facebook', \n",
    "    'contact'\n",
    "])\n",
    "\n",
    "for currid in ids: \n",
    "    endpoint = \"https://www.partners4employment.ca/student-alumni/current-participating-organizations.htm\"\n",
    "    data = {'action':'displayRegInfo', \n",
    "           'registrationId': currid}\n",
    "    r = requests.post(url = endpoint, data = data)\n",
    "    job_soup = BeautifulSoup(r.text,  \"lxml\")\n",
    "    \n",
    "    name = job_soup.find(\"h1\").text.strip()\n",
    "    details = job_soup.find_all(\"div\", class_=\"controls-text\")\n",
    "    boothnum = details[0].text.strip()\n",
    "    profile = details[1].text.strip()\n",
    "    positions = details[2].text.strip().split(' - ')\n",
    "    employmentTypes = details[3].text.strip().split('/')\n",
    "    location = details[4].text.strip().split('|')\n",
    "    linkedin = details[5].text.strip()\n",
    "    twitter = details[6].text.strip()\n",
    "    facebook = details[7].text.strip()\n",
    "    contact = details[8].text.strip()\n",
    "    \n",
    "    company_df = company_df.append({\n",
    "        'id': currid,\n",
    "        'name': name, \n",
    "        'booth': boothnum, \n",
    "        'profile':profile, \n",
    "        'positions':positions, \n",
    "        'employment types':employmentTypes, \n",
    "        'location': location, \n",
    "        'linkedin': linkedin,\n",
    "        'twitter': twitter,\n",
    "        'facebook':facebook, \n",
    "        'contact':contact\n",
    "    }, ignore_index=True)\n",
    "    print(\"added \", name, \" currlen: \", company_df.size)"
   ]
  },
  {
   "cell_type": "code",
   "execution_count": null,
   "metadata": {},
   "outputs": [],
   "source": []
  }
 ],
 "metadata": {
  "kernelspec": {
   "display_name": "Python 3",
   "language": "python",
   "name": "python3"
  },
  "language_info": {
   "codemirror_mode": {
    "name": "ipython",
    "version": 3
   },
   "file_extension": ".py",
   "mimetype": "text/x-python",
   "name": "python",
   "nbconvert_exporter": "python",
   "pygments_lexer": "ipython3",
   "version": "3.5.4"
  }
 },
 "nbformat": 4,
 "nbformat_minor": 2
}
