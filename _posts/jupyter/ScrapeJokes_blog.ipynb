{
 "cells": [
  {
   "cell_type": "markdown",
   "metadata": {},
   "source": [
    "# Scraping /r/jokes from reddit\n",
    "I do feel there's a need for explanation: \n",
    "Why reddit jokes? \n",
    "The answer is simple: the ease of scraping and the format of the jokes. \n",
    "/r/jokes reddit posts follow similar format: Short question or first line in the title, and punch line in the body of the post. \n",
    "Added goodies are: score to seperate good jokes from the bad ones, and time of the post. \n",
    "This leaves room plenty for exploration: \n",
    "-- what kind of jokes are made the most often when? \n",
    "-- are people posting more jokes during which month? \n",
    "\n",
    "etc. etc. "
   ]
  },
  {
   "cell_type": "markdown",
   "metadata": {},
   "source": [
    "## set up PRAW\n",
    "praw is the go to API for reddit scraping, so this is not an exception. "
   ]
  },
  {
   "cell_type": "code",
   "execution_count": 1,
   "metadata": {},
   "outputs": [],
   "source": [
    "import string\n",
    "import praw\n",
    "\n",
    "redditBot = praw.Reddit(user_agent='XXX',\n",
    "                  client_id='XXX',\n",
    "                  client_secret='XXX',\n",
    "                  username='XXX',\n",
    "                  password='XXX')"
   ]
  },
  {
   "cell_type": "markdown",
   "metadata": {},
   "source": [
    "View the first few submissions to see what we're dealing with: "
   ]
  },
  {
   "cell_type": "code",
   "execution_count": 16,
   "metadata": {},
   "outputs": [
    {
     "name": "stdout",
     "output_type": "stream",
     "text": [
      "By popular demand, we now have a discord server. Join this **Guaranteed reposts.** \n",
      "\n",
      "https://discord.gg/66qyTgJ  or https://discord.gg/jokes\n",
      "time: 2017-11-10, 19::30\n",
      "author:  love_the_heat\n",
      "score:  2099\n",
      "id: 7c3dev\n",
      "----------------\n",
      "A 90-year-old man goes for a physical and all of his tests come back normal. The doctor says, “Larry, everything looks great. How are you doing mentally and emotionally? Are you at peace with God?” \n",
      "\n",
      "Larry replies, “God and I are tight. He knows I have poor eyesight, so He’s fixed it so when I get up in the middle of the night to go to the bathroom, poof! The light goes on. When I’m done, poof! The light goes off.”\n",
      "\n",
      "“Wow, that’s incredible,” the doctor says.\n",
      "\n",
      "A little later in the day, the doctor calls Larry’s wife.\n",
      "\n",
      "“Bonnie,” he says, “Larry is doing fine! But I had to call you because I’m in awe of his relationship with God. Is it true that he gets up during the night, and poof, the light goes on in the bathroom, and when he’s done, poof, the light goes off?”\n",
      "\n",
      "“Oh sweet Jesus”, exclaims Bonnie. “He’s peeing in the refrigerator again!”\n",
      "time: 2018-02-15, 10::30\n",
      "author:  madazzahatter\n",
      "score:  6532\n",
      "id: 7xpiv9\n",
      "----------------\n",
      "My wife just called me and said, \"Three of the girls in the office have just received some flowers for Valentines Day. They are absolutely gorgeous!\" \n",
      "I repied, \"That's probably why they've received flowers then.\"\n",
      "time: 2018-02-14, 22::58\n",
      "author:  madazzahatter\n",
      "score:  16671\n",
      "id: 7xm4ar\n",
      "----------------\n"
     ]
    }
   ],
   "source": [
    "jokesSub = redditBot.subreddit('Jokes')\n",
    "from datetime import datetime\n",
    "for submission in jokesSub.hot(limit=3):\n",
    "    print(submission.title, submission.selftext)\n",
    "    print(\"time:\", datetime.utcfromtimestamp(submission.created_utc).strftime('%Y-%m-%d, %H::%M'))\n",
    "    print(\"author: \",submission.author.name)\n",
    "    print(\"score: \", submission.score,)\n",
    "    print(\"id:\", submission.id)\n",
    "    #print(\"ups & ratio:\", submission.ups,',', submission.upvote_ratio)\n",
    "    print(\"----------------\")"
   ]
  },
  {
   "cell_type": "markdown",
   "metadata": {},
   "source": [
    "From this, a few things are apparent: \n",
    "-- reddit no longer displays downvote counts, only upvote counts and upvote ratio\n",
    "-- not all posts are jokes, some are mod posts\n",
    "-- upvote ratio is very slow to get, for some reason. "
   ]
  },
  {
   "cell_type": "markdown",
   "metadata": {},
   "source": [
    "## Getting the jokes, get it? get it? "
   ]
  },
  {
   "cell_type": "markdown",
   "metadata": {},
   "source": [
    "Previously, I have tried to mine reddit from a large range of dates, or stream. One thing usually happens: notebook crashes, all data or lost, or both. \n",
    "So I am downloading jokes piece wise, month per month, from 2010. \n",
    "\n",
    "Second thing is that I'm only getting jokes with score>5, to weed out the really bad ones. "
   ]
  },
  {
   "cell_type": "code",
   "execution_count": 18,
   "metadata": {},
   "outputs": [],
   "source": [
    "from datetime import datetime\n",
    "years = range(2010, 2018)\n",
    "months = range(1, 13)\n",
    "timestamp_list = []\n",
    "for y in years:\n",
    "    for m in months: \n",
    "        timestamp_list.append(datetime(y, m, 1).timestamp())\n",
    "\n",
    "timestamp_list.append(datetime(2018, 1, 1).timestamp())\n",
    "timestamp_list.append(datetime(2018, 2, 1).timestamp())\n",
    "for d in timestamp_list:\n",
    "    value = datetime.fromtimestamp(d)\n",
    "    #print(value.strftime('%Y-%m-%d'))"
   ]
  },
  {
   "cell_type": "markdown",
   "metadata": {},
   "source": [
    "Finally, getting file --- I do have to say, this scraping took 3 hours, without getting the upvote_ratio. \n",
    "I'm not sure how long a complete data set will take. \n",
    "The resulting CSV file is about 50mb."
   ]
  },
  {
   "cell_type": "code",
   "execution_count": null,
   "metadata": {},
   "outputs": [],
   "source": [
    "start_timestamp = timestamp_list[0]\n",
    "jokelist = []\n",
    "counter = 0\n",
    "import csv\n",
    "with open('all_jokes_plus.csv', 'w') as csvfile:\n",
    "    spamwriter = csv.writer(csvfile, quoting=csv.QUOTE_ALL, quotechar=\"|\", delimiter=\",\")\n",
    "\n",
    "    for i in range(1, len(timestamp_list)):\n",
    "        end_timestamp = timestamp_list[i]\n",
    "        s = datetime.fromtimestamp(start_timestamp)\n",
    "        e = datetime.fromtimestamp(end_timestamp)\n",
    "        print(\"getting top jokes from \", s.strftime('%Y-%m-%d'), \" to \", e.strftime('%Y-%m-%d'))\n",
    "        print(start_timestamp, end_timestamp)\n",
    "        currJokes = jokesSub.submissions(start_timestamp, end_timestamp)\n",
    "        for submission in currJokes:\n",
    "            #print(submission.title, submission.author)\n",
    "            if (submission.author in jokes_mods): \n",
    "                continue\n",
    "            if (submission.score <5):\n",
    "                continue\n",
    "            q = submission.title\n",
    "            a = submission.selftext\n",
    "            if (len(q) == 0 or len(a) == 0):\n",
    "                continue\n",
    "            #jokelist = jokelist + [[submission.id,submission.created_utc, q, a]]\n",
    "            spamwriter.writerow([submission.id, submission.score,q, a,\n",
    "                submission.created_utc,submission.author.name, submission.ups, submission.upvote_ratio])\n",
    "            counter = counter + 1\n",
    "            if (counter %500 ==0):\n",
    "                print(\"\\t processed \", counter, \" jokes\")\n",
    "        start_timestamp = end_timestamp\n",
    "        #for j in jokelist: \n",
    "        #    spamwriter.writerow(j)\n",
    "        #jokelist=[]\n",
    "        print(\"processed \", counter, \" jokes so far\")"
   ]
  },
  {
   "cell_type": "markdown",
   "metadata": {},
   "source": [
    "... sample output:...."
   ]
  },
  {
   "cell_type": "raw",
   "metadata": {},
   "source": [
    "\n",
    "getting top jokes from  2010-01-01  to  2010-02-01\n",
    "1262322000.0 1265000400.0\n",
    "processed  4  jokes so far\n",
    "getting top jokes from  2010-02-01  to  2010-03-01\n",
    "1265000400.0 1267419600.0\n",
    "processed  9  jokes so far\n",
    "getting top jokes from  2010-03-01  to  2010-04-01\n",
    "1267419600.0 1270094400.0\n",
    "processed  10  jokes so far\n",
    "getting top jokes from  2010-04-01  to  2010-05-01\n",
    "1270094400.0 1272686400.0\n",
    "... ...\n",
    "which goes on for hours. "
   ]
  }
 ],
 "metadata": {
  "kernelspec": {
   "display_name": "Python 3",
   "language": "python",
   "name": "python3"
  },
  "language_info": {
   "codemirror_mode": {
    "name": "ipython",
    "version": 3
   },
   "file_extension": ".py",
   "mimetype": "text/x-python",
   "name": "python",
   "nbconvert_exporter": "python",
   "pygments_lexer": "ipython3",
   "version": "3.5.4"
  }
 },
 "nbformat": 4,
 "nbformat_minor": 2
}
